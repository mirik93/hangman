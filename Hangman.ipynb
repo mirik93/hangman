{
 "cells": [
  {
   "cell_type": "markdown",
   "metadata": {},
   "source": [
    "**Create a Hangman Game**\n",
    "\n",
    "Click <a href=\"https://en.wikipedia.org/wiki/Hangman_(game)\" target=\"_blank\">here</a> to learn how to play, or to simply get a refresher for how the game works.\n",
    "\n",
    "Create an object-orient program that works exactly as the Wikipedia page suggests.\n",
    "\n",
    "Given, are all of the classes to build out the game. While extremely helpful, please note that this may be an ineffective method of building your program, because it hinders how one would naturally build a program in your own way if they were left to figure it out for themselves.\n",
    "\n",
    "**How to build the program**\n",
    "* When you start the game, you will need to select a random word from a list of at least 10 words (You have full control over which words you want to use for you program). This will be your secret word. Your secret word will be represented in the program as a group of underscores. For as long as the word is, you should also have that many underscores. \n",
    "\n",
    "* Once the word is selected, your game will commence. Perform a Google search to figure out how to select a random word from a list using Python.<br>\n",
    "**Hint** There's package you can import into your application that does this for you.\n",
    "\n",
    "* The end user will have a total of 8 chances to guess the correct letter from the secret word. If the end user makes 8 incorrect guesses, the game will end.\n",
    "\n",
    "* As you guess the correct letters, the letters you have guess will then take place of the underscores that letter represents. <br>\n",
    "**For Example**: If your secret word is 'watermelon' and  so far you have guessed the letters 'a' and 'e', the word you're trying to guess will appear as follows: _ a _ e _ _ e _ _ _.<br>\n",
    "**Keep in mind** that if you guess a letter that appears more than once in your secret word, make sure that the letter is populated anywhere that letter would be."
   ]
  },
  {
   "cell_type": "code",
   "execution_count": null,
   "metadata": {},
   "outputs": [
    {
     "name": "stdout",
     "output_type": "stream",
     "text": [
      "Welcome To Hangman\n",
      "-------\n",
      "10\n"
     ]
    }
   ],
   "source": [
    "import random\n",
    "  \n",
    "welcome = (\"Welcome To Hangman!\")\n",
    "print(welcome)\n",
    "\n",
    "def get_guess():\n",
    "    dashes = \"-\" * len(secret_word)\n",
    "    guesses_left = 10\n",
    "    \n",
    "    while guesses_left > -1 and not dashes == secret_word:\n",
    "        print(dashes)\n",
    "        print (str(guesses_left))\n",
    "        guess = input(\"Guess:\")\n",
    "    \n",
    "        if len(guess) != 1:\n",
    "            print (\"Your guess must have exactly one letter!\")\n",
    "      \n",
    "        elif guess in secret_word:\n",
    "            print (\"That letter is in the secret word!\")\n",
    "            dashes = update_dashes(secret_word, dashes, guess)\n",
    "      \n",
    "        else:\n",
    "            print (\"That letter is not in the secret word!\")\n",
    "            guesses_left -= 1\n",
    "    \n",
    "    if guesses_left < 0:\n",
    "            print (\"You lose. The word was: \" + str(secret_word))\n",
    "  \n",
    "    else:\n",
    "        print (\"Congrats! You win. The word was: \" + str(secret_word))\n",
    "    \n",
    "def update_dashes(secret, cur_dash, rec_guess):\n",
    "    result = \"\"\n",
    "  \n",
    "    for i in range(len(secret)):\n",
    "        if secret[i] == rec_guess:\n",
    "            result = result + rec_guess     \n",
    "    \n",
    "        else:\n",
    "            result = result + cur_dash[i]\n",
    "      \n",
    "    return result\n",
    "    \n",
    "words = [\"codingtemple\",\"laptop\",\"class\",\"students\",\"teacher\",\"python\",\"gamer\",\"beer\",\"money\",\"apple\"]\n",
    "\n",
    "secret_word = random.choice(words)\n",
    "get_guess()"
   ]
  },
  {
   "cell_type": "code",
   "execution_count": null,
   "metadata": {},
   "outputs": [],
   "source": []
  },
  {
   "cell_type": "code",
   "execution_count": null,
   "metadata": {},
   "outputs": [],
   "source": []
  }
 ],
 "metadata": {
  "kernelspec": {
   "display_name": "Python 3",
   "language": "python",
   "name": "python3"
  },
  "language_info": {
   "codemirror_mode": {
    "name": "ipython",
    "version": 3
   },
   "file_extension": ".py",
   "mimetype": "text/x-python",
   "name": "python",
   "nbconvert_exporter": "python",
   "pygments_lexer": "ipython3",
   "version": "3.7.3"
  }
 },
 "nbformat": 4,
 "nbformat_minor": 2
}
